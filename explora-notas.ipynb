{
 "cells": [
  {
   "cell_type": "markdown",
   "metadata": {},
   "source": [
    "# Cuaderno de trabajo estadístico"
   ]
  },
  {
   "cell_type": "markdown",
   "metadata": {},
   "source": [
    "### Notas extraídas de la resolución concesión CONVOCATORIA C-003-18-ED\n",
    "05/04/2019 08:39:04 \n",
    "Firmada por **Luis Prieto Cuerdo - Director de Economía Digital**\n",
    "\n",
    "05/04/2019 09:46:26\n",
    "Firmada por **David Cierco Jiménez de Parga - Director General de la Entidad Pública Empresarial**\n"
   ]
  },
  {
   "cell_type": "markdown",
   "metadata": {},
   "source": [
    "### Cargamos el fichero de texto separado por tabulación"
   ]
  },
  {
   "cell_type": "code",
   "execution_count": 154,
   "metadata": {},
   "outputs": [],
   "source": [
    "import matplotlib.pyplot as plt\n",
    "import matplotlib.ticker as ticker\n",
    "import pandas as pd\n",
    "import numpy as np\n",
    "data = pd.read_csv(\"red.tsv\", sep='\\t', lineterminator='\\r')\n",
    "dataP = data.values"
   ]
  },
  {
   "cell_type": "markdown",
   "metadata": {},
   "source": [
    "### Extraemos los diferentes dataset y pintamos su distribución"
   ]
  },
  {
   "cell_type": "code",
   "execution_count": 126,
   "metadata": {},
   "outputs": [],
   "source": [
    "lista = [row.replace(',', '.') for row in df['C1'].values]\n",
    "table_innova = np.array(lista)\n",
    "table_innovaf = table.astype(np.float)"
   ]
  },
  {
   "cell_type": "code",
   "execution_count": 166,
   "metadata": {},
   "outputs": [
    {
     "data": {
      "image/png": "[encoded data removed]",
      "text/plain": [
       "<Figure size 2160x720 with 1 Axes>"
      ]
     },
     "metadata": {
      "needs_background": "light"
     },
     "output_type": "display_data"
    }
   ],
   "source": [
    "df = pd.DataFrame(data=dataP, columns=['ID','ESTADO','C1','C2','C3','C4','NOTA','POS'])\n",
    "df_notas = df.iloc[:,[2,3,4,5]]\n",
    "df_innova = df.iloc[:,[2]]\n",
    "dfC1 = df['C1'].values\n",
    "\n",
    "histog = []\n",
    "espacio_muestral = ['0,00', '0,33', '0,67', '1,00', '1,33', '1,67', '2,00', '2,33', '2,67',\n",
    "                    '3,00', '3,33', '3,67', '4,00', '4,33', '4,67', '5,00', '5,33', '5,67',\n",
    "                    '6,00', '6,33', '6,67', '7,00', '7,33', '7,67', '8,00', '8,33', '8,67',\n",
    "                    '9,00', '9,33', '9,67', '10,00']\n",
    "for d1 in espacio_muestral:\n",
    "    histog.append((dfC1 == d1).sum())\n",
    "\n",
    "np.array(histog)/len(dfC1)\n",
    "plt.figure(figsize=(30,10))\n",
    "plt.title('DISTRIBUCIÓN DE NOTAS MEDIA DE INNOVACIÓN')\n",
    "plt.xlabel('NOTAS MEDIAS')\n",
    "plt.ylabel('NÚMERO DE VECES')\n",
    "plt.ylim([0,60])\n",
    "plt.xlim(0,30)\n",
    "\n",
    "plt.bar(espacio_muestral, histog)\n",
    "plt.savefig(\"red.es.png\")\n",
    "plt.show()\n"
   ]
  },
  {
   "cell_type": "markdown",
   "metadata": {},
   "source": [
    "#### Cuando participan 9 jurados cada punto individual suma 1/9\n",
    "- Esto hace que puedan presentarnos 91 medias posibles\n",
    "- Ej:  0,   0.11,   0.22,   0.33   ...    9.66,   9.77,   9.88   y   10\n",
    "\n",
    "#### En las notas emitidas solo se han presentado medias múltiplo de 1/3\n",
    "- Solo el 33% de las medias emitidas en el documento cumple con esta circunstancia\n",
    "\n",
    "#### La probabilidad de que suceda en la totalidad de las 282 notas en absurdamente pequeña\n",
    "- 9 jueces votando 11 notas son 9^11 = 2357947691 de combinaciones\n",
    "- 785982563 de dichas combinaciones tiene una suma múltiplo de 3\n",
    "- casos_favorables/casos_totales = 0.3333333330506016\n",
    "- Que suceda en las 282 tiene una probabilidad combinada de 0.3333333330506016 ^ 282\n"
   ]
  },
  {
   "cell_type": "code",
   "execution_count": 172,
   "metadata": {},
   "outputs": [
    {
     "name": "stdout",
     "output_type": "stream",
     "text": [
      "2.830127915899589e-134\n"
     ]
    }
   ],
   "source": [
    "pow(0.3333333330506016, 282)"
   ]
  },
  {
   "cell_type": "raw",
   "metadata": {},
   "source": [
    "El 0.00000000000000000000000000000000000000000000000000\n",
    ".. 0000000000000000000000000000000000000000000000000000\n",
    ".. 000000000000000000000000000000002830127915899589 %"
   ]
  },
  {
   "cell_type": "markdown",
   "metadata": {},
   "source": [
    "---\n",
    "### Iteraciones por el producto cartesiano con todas las permutaciones con repetición\n",
    "- Se busca demostrar que 1/3 de ellas es múltiplo de 1/3 cuando votan 9 jueces del 0 al 10"
   ]
  },
  {
   "cell_type": "code",
   "execution_count": 15,
   "metadata": {},
   "outputs": [
    {
     "name": "stdout",
     "output_type": "stream",
     "text": [
      "785982563 2357947691 0.3333333330506016\n"
     ]
    }
   ],
   "source": [
    "import itertools \n",
    "\n",
    "n_votantes = 9\n",
    "casos_totales = 0\n",
    "casos_favorables = 0\n",
    "\n",
    "notas_posibles = [0, 1, 2, 3, 4, 5, 6, 7, 8, 9, 10] \n",
    "for p in itertools.product(notas_posibles, repeat=n_votantes):\n",
    "    s = sum(p) \n",
    "    if s % 3 == 0: \n",
    "        casos_favorables = casos_favorables+1\n",
    "    casos_totales = casos_totales+1\n",
    "\n",
    "print(casos_favorables, casos_totales, casos_favorables/casos_totales)"
   ]
  },
  {
   "cell_type": "markdown",
   "metadata": {},
   "source": [
    "\n",
    "\n",
    "\n"
   ]
  },
  {
   "cell_type": "markdown",
   "metadata": {},
   "source": [
    "---\n",
    "### Iteraciones por el producto cartesiano con todas las permutaciones con repetición\n",
    "- Se busca ejemplarizar la dificultad de obtener un 2 de media cuando votan 9 jueces del 0 al 10\n",
    "- Tan solo un 0.06380% de las veces ocurre\n",
    "- Que ocurra 16 veces consecutivas 0.00000000000000000000000000000000000000000000000008% de las veces"
   ]
  },
  {
   "cell_type": "code",
   "execution_count": 106,
   "metadata": {},
   "outputs": [
    {
     "name": "stdout",
     "output_type": "stream",
     "text": [
      "Notas disponibles por juez: [ 0  1  2  3  4  5  6  7  8  9 10]\n",
      "Número de jueces: 9\n",
      "\n",
      "Lista notas medias diferentes: [0.0, 0.11, 0.22, 0.33, 0.44, 0.56, 0.67, 0.78, 0.89, 1.0, 1.11, 1.22, 1.33, 1.44, 1.56, 1.67, 1.78, 1.89, 2.0, 2.11, 2.22, 2.33, 2.44, 2.56, 2.67, 2.78, 2.89, 3.0, 3.11, 3.22, 3.33, 3.44, 3.56, 3.67, 3.78, 3.89, 4.0, 4.11, 4.22, 4.33, 4.44, 4.56, 4.67, 4.78, 4.89, 5.0, 5.11, 5.22, 5.33, 5.44, 5.56, 5.67, 5.78, 5.89, 6.0, 6.11, 6.22, 6.33, 6.44, 6.56, 6.67, 6.78, 6.89, 7.0, 7.11, 7.22, 7.33, 7.44, 7.56, 7.67, 7.78, 7.89, 8.0, 8.11, 8.22, 8.33, 8.44, 8.56, 8.67, 8.78, 8.89, 9.0, 9.11, 9.22, 9.33, 9.44, 9.56, 9.67, 9.78, 9.89, 10.0]\n",
      "\n",
      "Nota media buscada:  2\n",
      "Combinaciones de notas favorables: 1504360\n",
      "Combinaciones totales: 2357947691\n",
      "Probabilidad de sacar un 2 de media 0.06380%\n",
      "\n",
      "Probabilidad 16 veces consecutivas: 0.00000000000000000000000000000000000000000000000008%\n"
     ]
    }
   ],
   "source": [
    "import itertools \n",
    "\n",
    "n_jueces = 9\n",
    "nota_maxima = 10\n",
    "casos_totales = 0\n",
    "casos_favorables = 0\n",
    "nota_buscada = 2\n",
    "lista_notas = []\n",
    "notas_posibles = range(0, nota_maxima +1)\n",
    "valor_unidad = 1 / (n_jueces * nota_maxima) * 10\n",
    "\n",
    "for p in itertools.product(notas_posibles, repeat=n_jueces):\n",
    "    s = sum(p) \n",
    "    m = round(s*valor_unidad,2)\n",
    "    \n",
    "    if m not in lista_notas:\n",
    "        lista_notas.append(m)\n",
    "        \n",
    "    if s == (nota_buscada*n_jueces): \n",
    "        casos_favorables = casos_favorables+1\n",
    "        \n",
    "    casos_totales = casos_totales+1\n",
    "\n",
    "print('Notas disponibles por juez: {0}'.format(np.array(notas_posibles)))\n",
    "print('Número de jueces: {0}\\n'.format(n_jueces))\n",
    "print('Lista notas medias diferentes: {0}\\n'.format(lista_notas))\n",
    "print(\"Nota media buscada: \", nota_buscada)\n",
    "print(\"Combinaciones de notas favorables: {0}\\nCombinaciones totales: {1}\".format(casos_favorables, casos_totales))\n",
    "print(\"Probabilidad de sacar un {0} de media {1:.5f}%\\n\".format(nota_buscada, casos_favorables/casos_totales * 100))\n",
    "prob = pow(casos_favorables/casos_totales , 16)\n",
    "print(\"Probabilidad 16 veces consecutivas: {0:.50f}%\".format(prob * 100))"
   ]
  },
  {
   "cell_type": "markdown",
   "metadata": {},
   "source": [
    "---\n",
    "### Iteraciones por el producto cartesiano con todas las permutaciones con repetición\n",
    "- Se busca ejemplarizar la dificultad de obtener un 2 de media cuando votan 3 jueces del 0 al 10\n",
    "- Tan solo un 2.10368% de las veces ocurre\n",
    "- Que ocurra 16 veces consecutivas 0.000000000000000000000000147% de las veces"
   ]
  },
  {
   "cell_type": "code",
   "execution_count": 105,
   "metadata": {},
   "outputs": [
    {
     "name": "stdout",
     "output_type": "stream",
     "text": [
      "Notas disponibles por juez: [ 0  1  2  3  4  5  6  7  8  9 10]\n",
      "Número de jueces: 3\n",
      "\n",
      "Lista notas medias diferentes: [0.0, 0.33, 0.67, 1.0, 1.33, 1.67, 2.0, 2.33, 2.67, 3.0, 3.33, 3.67, 4.0, 4.33, 4.67, 5.0, 5.33, 5.67, 6.0, 6.33, 6.67, 7.0, 7.33, 7.67, 8.0, 8.33, 8.67, 9.0, 9.33, 9.67, 10.0]\n",
      "\n",
      "Nota media buscada: 2\n",
      "Combinaciones de notas favorables: 28\n",
      "Combinaciones totales: 1331\n",
      "Probabilidad de sacar un 2 de media 2.10368%\n",
      "\n",
      "Probabilidad 16 veces consecutivas: 0.00000000000000000000000014712267540339975789657055%\n"
     ]
    }
   ],
   "source": [
    "import itertools \n",
    "\n",
    "n_jueces = 3\n",
    "nota_maxima = 10\n",
    "casos_totales = 0\n",
    "casos_favorables = 0\n",
    "nota_buscada = 2\n",
    "lista_notas = []\n",
    "notas_posibles = range(0, nota_maxima +1)\n",
    "valor_unidad = 1 / (n_jueces * nota_maxima) * 10\n",
    "\n",
    "for p in itertools.product(notas_posibles, repeat=n_jueces):\n",
    "    s = sum(p) \n",
    "    m = round(s*valor_unidad,2)\n",
    "    \n",
    "    if m not in lista_notas:\n",
    "        lista_notas.append(m)\n",
    "        \n",
    "    if s == (nota_buscada*n_jueces): \n",
    "        casos_favorables = casos_favorables+1\n",
    "        \n",
    "    casos_totales = casos_totales+1\n",
    "\n",
    "print('Notas disponibles por juez: {0}'.format(np.array(notas_posibles)))\n",
    "print('Número de jueces: {0}\\n'.format(n_jueces))\n",
    "print('Lista notas medias diferentes: {0}\\n'.format(lista_notas))\n",
    "print(\"Nota media buscada:\", nota_buscada)\n",
    "print(\"Combinaciones de notas favorables: {0}\\nCombinaciones totales: {1}\".format(casos_favorables, casos_totales))\n",
    "print(\"Probabilidad de sacar un {0} de media {1:.5f}%\\n\".format(nota_buscada, casos_favorables/casos_totales * 100))\n",
    "prob = pow(casos_favorables/casos_totales , 16)\n",
    "print(\"Probabilidad 16 veces consecutivas: {0:.50f}%\".format(prob * 100))"
   ]
  },
  {
   "cell_type": "markdown",
   "metadata": {},
   "source": [
    "---\n",
    "### Iteraciones por el producto cartesiano con todas las permutaciones con repetición\n",
    "- Se busca ejemplarizar la dificultad de obtener un 2 de media cuando votan 5 jueces del 0 al 6\n",
    "- Tan solo un 4.91462% de las veces ocurre\n",
    "- Que se de 16 veces consecutivas 0.0000000000000000001158% de las veces"
   ]
  },
  {
   "cell_type": "code",
   "execution_count": 104,
   "metadata": {},
   "outputs": [
    {
     "name": "stdout",
     "output_type": "stream",
     "text": [
      "Notas disponibles por juez: [0 1 2 3 4 5 6]\n",
      "Número de jueces: 5\n",
      "\n",
      "Lista notas medias diferentes: [0.0, 0.33, 0.67, 1.0, 1.33, 1.67, 2.0, 2.33, 2.67, 3.0, 3.33, 3.67, 4.0, 4.33, 4.67, 5.0, 5.33, 5.67, 6.0, 6.33, 6.67, 7.0, 7.33, 7.67, 8.0, 8.33, 8.67, 9.0, 9.33, 9.67, 10.0]\n",
      "\n",
      "Nota media buscada: 2\n",
      "Combinaciones de notas favorables: 826\n",
      "Combinaciones totales: 16807\n",
      "Probabilidad de sacar un 2 de media 4.91462%\n",
      "\n",
      "Probabilidad 16 veces consecutivas: 0.00000000000000000011583440067719153649045201268815%\n"
     ]
    }
   ],
   "source": [
    "import itertools \n",
    "\n",
    "n_jueces = 5\n",
    "nota_maxima = 6\n",
    "casos_totales = 0\n",
    "casos_favorables = 0\n",
    "nota_buscada = 2\n",
    "lista_notas = []\n",
    "notas_posibles = range(0, nota_maxima +1)\n",
    "valor_unidad = 1 / (n_jueces * nota_maxima) * 10\n",
    "\n",
    "for p in itertools.product(notas_posibles, repeat=n_jueces):\n",
    "    s = sum(p) \n",
    "    m = round(s*valor_unidad,2)\n",
    "    \n",
    "    if m not in lista_notas:\n",
    "        lista_notas.append(m)\n",
    "        \n",
    "    if s == (nota_buscada*n_jueces): \n",
    "        casos_favorables = casos_favorables+1\n",
    "        \n",
    "    casos_totales = casos_totales+1\n",
    "\n",
    "print('Notas disponibles por juez: {0}'.format(np.array(notas_posibles)))\n",
    "print('Número de jueces: {0}\\n'.format(n_jueces))\n",
    "print('Lista notas medias diferentes: {0}\\n'.format(lista_notas))\n",
    "print(\"Nota media buscada:\", nota_buscada)\n",
    "print(\"Combinaciones de notas favorables: {0}\\nCombinaciones totales: {1}\".format(casos_favorables, casos_totales))\n",
    "print(\"Probabilidad de sacar un {0} de media {1:.5f}%\\n\".format(nota_buscada, casos_favorables/casos_totales * 100))\n",
    "prob = pow(casos_favorables/casos_totales , 16)\n",
    "print(\"Probabilidad 16 veces consecutivas: {0:.50f}%\".format(prob * 100))"
   ]
  }
 ],
 "metadata": {
  "kernelspec": {
   "display_name": "Python 3",
   "language": "python",
   "name": "python3"
  },
  "language_info": {
   "codemirror_mode": {
    "name": "ipython",
    "version": 3
   },
   "file_extension": ".py",
   "mimetype": "text/x-python",
   "name": "python",
   "nbconvert_exporter": "python",
   "pygments_lexer": "ipython3",
   "version": "3.7.1"
  },
  "toc": {
   "colors": {
    "hover_highlight": "#DAA520",
    "navigate_num": "#000000",
    "navigate_text": "#333333",
    "running_highlight": "#FF0000",
    "selected_highlight": "#FFD700",
    "sidebar_border": "#EEEEEE",
    "wrapper_background": "#FFFFFF"
   },
   "moveMenuLeft": true,
   "nav_menu": {
    "height": "48px",
    "width": "252px"
   },
   "navigate_menu": true,
   "number_sections": true,
   "sideBar": false,
   "threshold": 4,
   "toc_cell": false,
   "toc_position": {
    "height": "269px",
    "left": "1px",
    "right": "20px",
    "top": "67px",
    "width": "133px"
   },
   "toc_section_display": "block",
   "toc_window_display": true,
   "widenNotebook": false
  }
 },
 "nbformat": 4,
 "nbformat_minor": 2
}
